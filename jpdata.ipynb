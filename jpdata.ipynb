{
 "cells": [
  {
   "cell_type": "code",
   "execution_count": 2,
   "metadata": {},
   "outputs": [],
   "source": [
    "import pandas as pd\n",
    "import numpy as np\n",
    "import matplotlib.pyplot as plt\n",
    "import math\n",
    "import numpy as num\n",
    "import seaborn as sns\n",
    "\n",
    "\n",
    "\n",
    "#Read the csv, drop index column\n",
    "df=pd.read_csv(\"fraud_payment_data.csv\")\n"
   ]
  },
  {
   "cell_type": "code",
   "execution_count": 3,
   "metadata": {},
   "outputs": [
    {
     "name": "stdout",
     "output_type": "stream",
     "text": [
      "Number of total rows:  1498178\n",
      "Number of rows after dropping na:  1063397\n",
      "Number of rows after dropping USD_amount = 0:  1063375\n",
      "<class 'pandas.core.frame.DataFrame'>\n",
      "Int64Index: 1063375 entries, 1 to 1498177\n",
      "Data columns (total 13 columns):\n",
      " #   Column            Non-Null Count    Dtype  \n",
      "---  ------            --------------    -----  \n",
      " 0   Time_step         1063375 non-null  object \n",
      " 1   Transaction_Id    1063375 non-null  object \n",
      " 2   Sender_Id         1063375 non-null  object \n",
      " 3   Sender_Account    1063375 non-null  object \n",
      " 4   Sender_Country    1063375 non-null  object \n",
      " 5   Sender_Sector     1063375 non-null  float64\n",
      " 6   Sender_lob        1063375 non-null  object \n",
      " 7   Bene_Id           1063375 non-null  object \n",
      " 8   Bene_Account      1063375 non-null  object \n",
      " 9   Bene_Country      1063375 non-null  object \n",
      " 10  USD_amount        1063375 non-null  float64\n",
      " 11  Label             1063375 non-null  float64\n",
      " 12  Transaction_Type  1063375 non-null  object \n",
      "dtypes: float64(3), object(10)\n",
      "memory usage: 113.6+ MB\n"
     ]
    }
   ],
   "source": [
    "#Drop the rows with missing values\n",
    "print(\"Number of total rows: \", len(df))\n",
    "df = df.dropna()\n",
    "print(\"Number of rows after dropping na: \", len(df))\n",
    "df = df.drop(index=df[df['USD_amount'] == 0].index)\n",
    "print(\"Number of rows after dropping USD_amount = 0: \", len(df))\n",
    "\n",
    "df.info()\n",
    "df.columns = df.columns.str.replace(' ', '_')"
   ]
  },
  {
   "cell_type": "code",
   "execution_count": 4,
   "metadata": {},
   "outputs": [
    {
     "name": "stdout",
     "output_type": "stream",
     "text": [
      "Index(['Transaction_Id', 'Sender_Id', 'Sender_Account', 'Sender_Country',\n",
      "       'Sender_Sector', 'Sender_lob', 'Bene_Id', 'Bene_Account',\n",
      "       'Bene_Country', 'USD_amount', 'Label', 'Transaction_Type'],\n",
      "      dtype='object')\n",
      "Column --Transaction_Id-- has --1063375-- unique values\n",
      "Column --Sender_Id-- has --58423-- unique values\n",
      "Column --Sender_Account-- has --73999-- unique values\n",
      "Column --Sender_Country-- has --252-- unique values\n",
      "Column --Sender_Sector-- has --50000-- unique values\n",
      "Column --Sender_lob-- has --1-- unique values\n",
      "Column --Bene_Id-- has --278068-- unique values\n",
      "Column --Bene_Account-- has --293206-- unique values\n",
      "Column --Bene_Country-- has --252-- unique values\n",
      "Column --USD_amount-- has --100309-- unique values\n",
      "Column --Label-- has --2-- unique values\n",
      "Column --Transaction_Type-- has --4-- unique values\n",
      "False    1041813\n",
      "True       21562\n",
      "Name: Label, dtype: int64\n"
     ]
    }
   ],
   "source": [
    "#Drop first column\n",
    "df = df.drop(df.columns[0], axis=1)\n",
    "print(df.columns)\n",
    "\n",
    "categories = df.select_dtypes('O').columns.astype('category')\n",
    "df[categories]\n",
    "\n",
    "for i in df.columns:\n",
    "    print(f'Column --{i}-- has --{len(df[i].value_counts())}-- unique values')\n",
    "\n",
    "df.describe()\n",
    "\n",
    "a=(df.Label==1).value_counts()\n",
    "print(a)"
   ]
  },
  {
   "cell_type": "code",
   "execution_count": 5,
   "metadata": {},
   "outputs": [],
   "source": [
    "#Drop first column\n",
    "df = df.drop(df.columns[0], axis=1)"
   ]
  },
  {
   "cell_type": "markdown",
   "metadata": {},
   "source": [
    "Central tendency"
   ]
  },
  {
   "cell_type": "code",
   "execution_count": 6,
   "metadata": {},
   "outputs": [
    {
     "name": "stdout",
     "output_type": "stream",
     "text": [
      "False    288408\n",
      "True       5967\n",
      "Name: Label, dtype: int64\n",
      "%: 2.068943996005659\n"
     ]
    },
    {
     "data": {
      "text/html": [
       "<div>\n",
       "<style scoped>\n",
       "    .dataframe tbody tr th:only-of-type {\n",
       "        vertical-align: middle;\n",
       "    }\n",
       "\n",
       "    .dataframe tbody tr th {\n",
       "        vertical-align: top;\n",
       "    }\n",
       "\n",
       "    .dataframe thead th {\n",
       "        text-align: right;\n",
       "    }\n",
       "</style>\n",
       "<table border=\"1\" class=\"dataframe\">\n",
       "  <thead>\n",
       "    <tr style=\"text-align: right;\">\n",
       "      <th></th>\n",
       "      <th>Sender_Id</th>\n",
       "      <th>Sender_Account</th>\n",
       "      <th>Sender_Country</th>\n",
       "      <th>Sender_lob</th>\n",
       "      <th>Bene_Id</th>\n",
       "      <th>Bene_Account</th>\n",
       "      <th>Bene_Country</th>\n",
       "      <th>Transaction_Type</th>\n",
       "    </tr>\n",
       "  </thead>\n",
       "  <tbody>\n",
       "    <tr>\n",
       "      <th>1</th>\n",
       "      <td>JPMC-CLIENT-10098</td>\n",
       "      <td>ACCOUNT-10109</td>\n",
       "      <td>USA</td>\n",
       "      <td>CCB</td>\n",
       "      <td>CLIENT-10100</td>\n",
       "      <td>ACCOUNT-10106</td>\n",
       "      <td>CANADA</td>\n",
       "      <td>QUICK-PAYMENT</td>\n",
       "    </tr>\n",
       "    <tr>\n",
       "      <th>3</th>\n",
       "      <td>JPMC-CLIENT-9812</td>\n",
       "      <td>ACCOUNT-9825</td>\n",
       "      <td>USA</td>\n",
       "      <td>CCB</td>\n",
       "      <td>JPMC-CLIENT-9814</td>\n",
       "      <td>ACCOUNT-9824</td>\n",
       "      <td>USA</td>\n",
       "      <td>PAY-CHECK</td>\n",
       "    </tr>\n",
       "    <tr>\n",
       "      <th>5</th>\n",
       "      <td>JPMC-CLIENT-9763</td>\n",
       "      <td>ACCOUNT-9773</td>\n",
       "      <td>USA</td>\n",
       "      <td>CCB</td>\n",
       "      <td>JPMC-COMPANY-9765</td>\n",
       "      <td>ACCOUNT-9771</td>\n",
       "      <td>BELARUS</td>\n",
       "      <td>PAY-CHECK</td>\n",
       "    </tr>\n",
       "    <tr>\n",
       "      <th>10</th>\n",
       "      <td>JPMC-CLIENT-9229</td>\n",
       "      <td>ACCOUNT-9239</td>\n",
       "      <td>USA</td>\n",
       "      <td>CCB</td>\n",
       "      <td>COMPANY-9231</td>\n",
       "      <td>ACCOUNT-9237</td>\n",
       "      <td>QATAR</td>\n",
       "      <td>QUICK-PAYMENT</td>\n",
       "    </tr>\n",
       "    <tr>\n",
       "      <th>11</th>\n",
       "      <td>JPMC-CLIENT-9229</td>\n",
       "      <td>ACCOUNT-9240</td>\n",
       "      <td>USA</td>\n",
       "      <td>CCB</td>\n",
       "      <td>CLIENT-9247</td>\n",
       "      <td>ACCOUNT-9248</td>\n",
       "      <td>TANZANIA</td>\n",
       "      <td>MOVE-FUNDS</td>\n",
       "    </tr>\n",
       "    <tr>\n",
       "      <th>...</th>\n",
       "      <td>...</td>\n",
       "      <td>...</td>\n",
       "      <td>...</td>\n",
       "      <td>...</td>\n",
       "      <td>...</td>\n",
       "      <td>...</td>\n",
       "      <td>...</td>\n",
       "      <td>...</td>\n",
       "    </tr>\n",
       "    <tr>\n",
       "      <th>1498173</th>\n",
       "      <td>JPMC-CLIENT-2179746</td>\n",
       "      <td>ACCOUNT-2179757</td>\n",
       "      <td>USA</td>\n",
       "      <td>CCB</td>\n",
       "      <td>BILL-COMPANY-2179895</td>\n",
       "      <td>ACCOUNT-2179896</td>\n",
       "      <td>USA</td>\n",
       "      <td>MAKE-PAYMENT</td>\n",
       "    </tr>\n",
       "    <tr>\n",
       "      <th>1498174</th>\n",
       "      <td>JPMC-CLIENT-2181147</td>\n",
       "      <td>ACCOUNT-2181158</td>\n",
       "      <td>USA</td>\n",
       "      <td>CCB</td>\n",
       "      <td>CLIENT-2181279</td>\n",
       "      <td>ACCOUNT-2181280</td>\n",
       "      <td>USA</td>\n",
       "      <td>QUICK-PAYMENT</td>\n",
       "    </tr>\n",
       "    <tr>\n",
       "      <th>1498175</th>\n",
       "      <td>JPMC-CLIENT-2179746</td>\n",
       "      <td>ACCOUNT-2179757</td>\n",
       "      <td>USA</td>\n",
       "      <td>CCB</td>\n",
       "      <td>BILL-COMPANY-2180022</td>\n",
       "      <td>ACCOUNT-2180023</td>\n",
       "      <td>USA</td>\n",
       "      <td>MAKE-PAYMENT</td>\n",
       "    </tr>\n",
       "    <tr>\n",
       "      <th>1498176</th>\n",
       "      <td>JPMC-CLIENT-2181147</td>\n",
       "      <td>ACCOUNT-2181158</td>\n",
       "      <td>USA</td>\n",
       "      <td>CCB</td>\n",
       "      <td>CLIENT-2181279</td>\n",
       "      <td>ACCOUNT-2181280</td>\n",
       "      <td>USA</td>\n",
       "      <td>QUICK-PAYMENT</td>\n",
       "    </tr>\n",
       "    <tr>\n",
       "      <th>1498177</th>\n",
       "      <td>JPMC-CLIENT-2181147</td>\n",
       "      <td>ACCOUNT-2181158</td>\n",
       "      <td>USA</td>\n",
       "      <td>CCB</td>\n",
       "      <td>CLIENT-2181166</td>\n",
       "      <td>ACCOUNT-2181167</td>\n",
       "      <td>USA</td>\n",
       "      <td>QUICK-PAYMENT</td>\n",
       "    </tr>\n",
       "  </tbody>\n",
       "</table>\n",
       "<p>1063375 rows × 8 columns</p>\n",
       "</div>"
      ],
      "text/plain": [
       "                   Sender_Id   Sender_Account Sender_Country Sender_lob  \\\n",
       "1          JPMC-CLIENT-10098    ACCOUNT-10109            USA        CCB   \n",
       "3           JPMC-CLIENT-9812     ACCOUNT-9825            USA        CCB   \n",
       "5           JPMC-CLIENT-9763     ACCOUNT-9773            USA        CCB   \n",
       "10          JPMC-CLIENT-9229     ACCOUNT-9239            USA        CCB   \n",
       "11          JPMC-CLIENT-9229     ACCOUNT-9240            USA        CCB   \n",
       "...                      ...              ...            ...        ...   \n",
       "1498173  JPMC-CLIENT-2179746  ACCOUNT-2179757            USA        CCB   \n",
       "1498174  JPMC-CLIENT-2181147  ACCOUNT-2181158            USA        CCB   \n",
       "1498175  JPMC-CLIENT-2179746  ACCOUNT-2179757            USA        CCB   \n",
       "1498176  JPMC-CLIENT-2181147  ACCOUNT-2181158            USA        CCB   \n",
       "1498177  JPMC-CLIENT-2181147  ACCOUNT-2181158            USA        CCB   \n",
       "\n",
       "                      Bene_Id     Bene_Account Bene_Country Transaction_Type  \n",
       "1                CLIENT-10100    ACCOUNT-10106       CANADA    QUICK-PAYMENT  \n",
       "3            JPMC-CLIENT-9814     ACCOUNT-9824          USA        PAY-CHECK  \n",
       "5           JPMC-COMPANY-9765     ACCOUNT-9771      BELARUS        PAY-CHECK  \n",
       "10               COMPANY-9231     ACCOUNT-9237        QATAR    QUICK-PAYMENT  \n",
       "11                CLIENT-9247     ACCOUNT-9248     TANZANIA       MOVE-FUNDS  \n",
       "...                       ...              ...          ...              ...  \n",
       "1498173  BILL-COMPANY-2179895  ACCOUNT-2179896          USA     MAKE-PAYMENT  \n",
       "1498174        CLIENT-2181279  ACCOUNT-2181280          USA    QUICK-PAYMENT  \n",
       "1498175  BILL-COMPANY-2180022  ACCOUNT-2180023          USA     MAKE-PAYMENT  \n",
       "1498176        CLIENT-2181279  ACCOUNT-2181280          USA    QUICK-PAYMENT  \n",
       "1498177        CLIENT-2181166  ACCOUNT-2181167          USA    QUICK-PAYMENT  \n",
       "\n",
       "[1063375 rows x 8 columns]"
      ]
     },
     "execution_count": 6,
     "metadata": {},
     "output_type": "execute_result"
    }
   ],
   "source": [
    "np.random.seed(12356)\n",
    "\n",
    "remove_n = 769000\n",
    "\n",
    "drop_indices = np.random.choice(df.index, remove_n, replace=False)\n",
    "df_subset = df.drop(drop_indices)\n",
    "df_subset.describe()\n",
    "print((df_subset.Label==1).value_counts())\n",
    "arr=((df_subset.Label==1).value_counts()).to_numpy()\n",
    "\n",
    "b= arr[1]/arr[0]\n",
    "\n",
    "print(\"%:\", b*100)\n",
    "\n",
    "categories = df.select_dtypes('O').columns.astype('category')\n",
    "df[categories]\n",
    "\n",
    "\n"
   ]
  },
  {
   "cell_type": "code",
   "execution_count": 7,
   "metadata": {},
   "outputs": [
    {
     "name": "stdout",
     "output_type": "stream",
     "text": [
      "The categorical column --Sender_Id-- has --58423-- unique values\n",
      "The categorical column --Sender_Account-- has --73999-- unique values\n",
      "The categorical column --Sender_Country-- has --252-- unique values\n",
      "The categorical column --Sender_lob-- has --1-- unique values\n",
      "The categorical column --Bene_Id-- has --278068-- unique values\n",
      "The categorical column --Bene_Account-- has --293206-- unique values\n",
      "The categorical column --Bene_Country-- has --252-- unique values\n",
      "The categorical column --Transaction_Type-- has --4-- unique values\n",
      "                  Sender_Id   Sender_Account    Sender_Country  Sender_Sector  \\\n",
      "284027        CLIENT-415368   ACCOUNT-415384         SINGAPORE        44347.0   \n",
      "1137088      CLIENT-1664521  ACCOUNT-1664522               USA        17398.0   \n",
      "549956   JPMC-CLIENT-801171   ACCOUNT-801183               USA        40221.0   \n",
      "1068317      CLIENT-1560717  ACCOUNT-1560718           MYANMAR        29013.0   \n",
      "542984        CLIENT-796826   ACCOUNT-796840  FALKLAND-ISLANDS        42893.0   \n",
      "\n",
      "        Sender_lob              Bene_Id     Bene_Account Bene_Country  \\\n",
      "284027         CCB   JPMC-CLIENT-415366   ACCOUNT-415378          USA   \n",
      "1137088        CCB  JPMC-CLIENT-1664501  ACCOUNT-1664511          USA   \n",
      "549956         CCB   JPMC-CLIENT-801169   ACCOUNT-801179          USA   \n",
      "1068317        CCB  JPMC-CLIENT-1560698  ACCOUNT-1560709          USA   \n",
      "542984         CCB   JPMC-CLIENT-796825   ACCOUNT-796837          USA   \n",
      "\n",
      "         USD_amount  Label Transaction_Type  \n",
      "284027     19927.99    1.0    QUICK-PAYMENT  \n",
      "1137088    19921.43    1.0     MAKE-PAYMENT  \n",
      "549956     19700.91    1.0        PAY-CHECK  \n",
      "1068317    19699.39    1.0    QUICK-PAYMENT  \n",
      "542984     19629.81    1.0    QUICK-PAYMENT  \n"
     ]
    },
    {
     "data": {
      "text/plain": [
       "Sender_Sector    2.082015e+08\n",
       "USD_amount       2.983459e+05\n",
       "Label            1.986581e-02\n",
       "dtype: float64"
      ]
     },
     "execution_count": 7,
     "metadata": {},
     "output_type": "execute_result"
    }
   ],
   "source": [
    "for i in df_subset[categories].columns:\n",
    "    print(f'The categorical column --{i}-- has --{len(df[i].value_counts())}-- unique values')\n",
    "\n",
    "numericals = df.select_dtypes(include=['float','int']).columns\n",
    "df[numericals].describe()\n",
    "large=df.nlargest(5, ['USD_amount'])\n",
    "print(large)\n",
    "df[numericals].var()\n"
   ]
  },
  {
   "cell_type": "code",
   "execution_count": 8,
   "metadata": {},
   "outputs": [
    {
     "name": "stdout",
     "output_type": "stream",
     "text": [
      "284027     19927.99\n",
      "1137088    19921.43\n",
      "549956     19700.91\n",
      "1068317    19699.39\n",
      "542984     19629.81\n",
      "             ...   \n",
      "1096594        0.01\n",
      "692555         0.01\n",
      "229319         0.01\n",
      "1266091        0.01\n",
      "1472077        0.01\n",
      "Name: USD_amount, Length: 1063375, dtype: float64\n"
     ]
    }
   ],
   "source": [
    "sorted_df = df.sort_values(by='USD_amount', ascending=False)\n",
    "print(sorted_df.USD_amount)"
   ]
  },
  {
   "cell_type": "code",
   "execution_count": 9,
   "metadata": {},
   "outputs": [
    {
     "data": {
      "image/png": "[encoded data removed]",
      "text/plain": [
       "<Figure size 640x480 with 1 Axes>"
      ]
     },
     "metadata": {},
     "output_type": "display_data"
    }
   ],
   "source": [
    "\n",
    "# Define the bin edges\n",
    "bins = [0,1,10, 100, 1000, 5000,20000]\n",
    "df=df.dropna()\n",
    "# Plot the histogram\n",
    "plt.hist(df['USD_amount'], bins=bins, align='mid',edgecolor='black')\n",
    "# Set the x-axis scale to 'log'\n",
    "plt.xscale('log')\n",
    "# Set the axis labels and title\n",
    "\n",
    "plt.xlabel('Transaction Amount (USD)')\n",
    "plt.ylabel('Number of Transactions')\n",
    "plt.title('Distribution of Transaction Amounts')\n",
    "plt.grid(axis='y', alpha=0.5, linestyle='--')\n",
    "\n",
    "\n",
    "plt.show()\n"
   ]
  },
  {
   "attachments": {},
   "cell_type": "markdown",
   "metadata": {},
   "source": [
    "Distribution by countries"
   ]
  },
  {
   "cell_type": "code",
   "execution_count": 10,
   "metadata": {},
   "outputs": [
    {
     "data": {
      "text/plain": [
       "USA               805481\n",
       "GERMANY            73362\n",
       "CANADA             27296\n",
       "FRENCH-GUIANA        996\n",
       "THAILAND             985\n",
       "LIECHTENSTEIN        982\n",
       "MAURITANIA           973\n",
       "KUWAIT               941\n",
       "JAMAICA              919\n",
       "CAYMAN-ISLANDS       897\n",
       "Name: Sender_Country, dtype: int64"
      ]
     },
     "execution_count": 10,
     "metadata": {},
     "output_type": "execute_result"
    }
   ],
   "source": [
    "#Get me the statistics of top 10 Sender_Country\n",
    "df['Sender_Country'].value_counts().head(10)\n"
   ]
  },
  {
   "cell_type": "code",
   "execution_count": 11,
   "metadata": {},
   "outputs": [
    {
     "data": {
      "text/plain": [
       "USA                  16691\n",
       "CANADA                 946\n",
       "GERMANY                 49\n",
       "SOUTH-SUDAN             38\n",
       "EL-SALVADOR             37\n",
       "GUAM                    36\n",
       "MOZAMBIQUE              33\n",
       "LIECHTENSTEIN           32\n",
       "ITALY                   32\n",
       "SAO-TOME-PRINCIPE       28\n",
       "Name: Sender_Country, dtype: int64"
      ]
     },
     "execution_count": 11,
     "metadata": {},
     "output_type": "execute_result"
    }
   ],
   "source": [
    "#now only the fraud transactions\n",
    "fraud=df[df['Label']==1]\n",
    "fraud['Sender_Country'].value_counts().head(10)"
   ]
  },
  {
   "cell_type": "code",
   "execution_count": 12,
   "metadata": {},
   "outputs": [
    {
     "data": {
      "text/plain": [
       "USA                 563692\n",
       "CANADA              134351\n",
       "GERMANY               7886\n",
       "CAYMAN-ISLANDS        1843\n",
       "BRAZIL                1817\n",
       "INDIA                 1776\n",
       "RUSSIAN               1774\n",
       "SOUTH-SUDAN           1763\n",
       "FRENCH-POLYNESIA      1746\n",
       "GAMBIA                1730\n",
       "Name: Bene_Country, dtype: int64"
      ]
     },
     "execution_count": 12,
     "metadata": {},
     "output_type": "execute_result"
    }
   ],
   "source": [
    "#Get me the statistics of top 10 Bene_Country\n",
    "df['Bene_Country'].value_counts().head(10)"
   ]
  },
  {
   "cell_type": "code",
   "execution_count": 13,
   "metadata": {},
   "outputs": [
    {
     "data": {
      "image/png": "[encoded data removed]",
      "text/plain": [
       "<Figure size 1500x1000 with 1 Axes>"
      ]
     },
     "metadata": {},
     "output_type": "display_data"
    }
   ],
   "source": [
    "\n",
    "#in this cell we are going to create a bar chart showing the 15 top countries with the most fraudulant transactions\n",
    "#First we get all the countries with fraudulant transactions\n",
    "fraud_countries = df[df['Label'] == 1]['Bene_Country'].value_counts().head(5)\n",
    "#Then we create a bar chart\n",
    "plt.figure(figsize=(15,10))\n",
    "sns.barplot(x=fraud_countries.index, y=fraud_countries.values, palette='Set3')\n",
    "plt.title('Top 15 Countries with Fraudulent Transactions')\n",
    "plt.ylabel('Number of Transactions', fontsize=12)\n",
    "plt.xlabel('Country', fontsize=12)\n",
    "plt.show()"
   ]
  },
  {
   "cell_type": "code",
   "execution_count": 14,
   "metadata": {},
   "outputs": [
    {
     "name": "stdout",
     "output_type": "stream",
     "text": [
      "{'Sender_Id': dtype('O'), 'Sender_Account': dtype('O'), 'Sender_Country': dtype('O'), 'Sender_Sector': dtype('float64'), 'Sender_lob': dtype('O'), 'Bene_Id': dtype('O'), 'Bene_Account': dtype('O'), 'Bene_Country': dtype('O'), 'USD_amount': dtype('float64'), 'Label': dtype('float64'), 'Transaction_Type': dtype('O')}\n"
     ]
    }
   ],
   "source": [
    "#make a dictionary with each column and its type\n",
    "dtypes = dict(df.dtypes)\n",
    "print(dtypes)\n"
   ]
  },
  {
   "cell_type": "code",
   "execution_count": 15,
   "metadata": {},
   "outputs": [
    {
     "name": "stdout",
     "output_type": "stream",
     "text": [
      "               Sender_Sector  USD_amount     Label\n",
      "Sender_Sector       1.000000    0.000013  0.000275\n",
      "USD_amount          0.000013    1.000000  0.059918\n",
      "Label               0.000275    0.059918  1.000000\n"
     ]
    },
    {
     "data": {
      "image/png": "[encoded data removed]",
      "text/plain": [
       "<Figure size 500x400 with 2 Axes>"
      ]
     },
     "metadata": {},
     "output_type": "display_data"
    }
   ],
   "source": [
    "corr = df.corr()\n",
    "print(corr)\n",
    "mask = np.zeros_like(corr)\n",
    "mask[np.triu_indices_from(mask)]=True\n",
    "with sns.axes_style('white'):\n",
    "    fig, ax = plt.subplots(figsize=(5,4))\n",
    "    sns.heatmap(corr,  mask=mask, annot=False, cmap='CMRmap', center=0, square=True)"
   ]
  },
  {
   "cell_type": "code",
   "execution_count": 16,
   "metadata": {},
   "outputs": [
    {
     "name": "stdout",
     "output_type": "stream",
     "text": [
      "0\n"
     ]
    }
   ],
   "source": [
    "#count all the rows which have missing value Null OR NaN in all of these columns: Sender_Id,Sender_Account,Sender_Country,Sender_Sector,Sender_lob\n",
    "null_count = df['Sender_Id'].isnull().sum() \n",
    "print(null_count)"
   ]
  },
  {
   "cell_type": "code",
   "execution_count": 22,
   "metadata": {},
   "outputs": [
    {
     "data": {
      "text/html": [
       "<div>\n",
       "<style scoped>\n",
       "    .dataframe tbody tr th:only-of-type {\n",
       "        vertical-align: middle;\n",
       "    }\n",
       "\n",
       "    .dataframe tbody tr th {\n",
       "        vertical-align: top;\n",
       "    }\n",
       "\n",
       "    .dataframe thead th {\n",
       "        text-align: right;\n",
       "    }\n",
       "</style>\n",
       "<table border=\"1\" class=\"dataframe\">\n",
       "  <thead>\n",
       "    <tr style=\"text-align: right;\">\n",
       "      <th></th>\n",
       "      <th>Sender_Id</th>\n",
       "      <th>Sender_Account</th>\n",
       "      <th>Sender_Country</th>\n",
       "      <th>Sender_Sector</th>\n",
       "      <th>Sender_lob</th>\n",
       "      <th>Bene_Id</th>\n",
       "      <th>Bene_Account</th>\n",
       "      <th>Bene_Country</th>\n",
       "      <th>USD_amount</th>\n",
       "      <th>Label</th>\n",
       "      <th>Transaction_Type</th>\n",
       "    </tr>\n",
       "  </thead>\n",
       "  <tbody>\n",
       "    <tr>\n",
       "      <th>1</th>\n",
       "      <td>JPMC-CLIENT-10098</td>\n",
       "      <td>ACCOUNT-10109</td>\n",
       "      <td>USA</td>\n",
       "      <td>15287.0</td>\n",
       "      <td>CCB</td>\n",
       "      <td>CLIENT-10100</td>\n",
       "      <td>ACCOUNT-10106</td>\n",
       "      <td>CANADA</td>\n",
       "      <td>622.78</td>\n",
       "      <td>0.0</td>\n",
       "      <td>QUICK-PAYMENT</td>\n",
       "    </tr>\n",
       "    <tr>\n",
       "      <th>3</th>\n",
       "      <td>JPMC-CLIENT-9812</td>\n",
       "      <td>ACCOUNT-9825</td>\n",
       "      <td>USA</td>\n",
       "      <td>38145.0</td>\n",
       "      <td>CCB</td>\n",
       "      <td>JPMC-CLIENT-9814</td>\n",
       "      <td>ACCOUNT-9824</td>\n",
       "      <td>USA</td>\n",
       "      <td>989.09</td>\n",
       "      <td>0.0</td>\n",
       "      <td>PAY-CHECK</td>\n",
       "    </tr>\n",
       "    <tr>\n",
       "      <th>5</th>\n",
       "      <td>JPMC-CLIENT-9763</td>\n",
       "      <td>ACCOUNT-9773</td>\n",
       "      <td>USA</td>\n",
       "      <td>14645.0</td>\n",
       "      <td>CCB</td>\n",
       "      <td>JPMC-COMPANY-9765</td>\n",
       "      <td>ACCOUNT-9771</td>\n",
       "      <td>BELARUS</td>\n",
       "      <td>543.87</td>\n",
       "      <td>0.0</td>\n",
       "      <td>PAY-CHECK</td>\n",
       "    </tr>\n",
       "    <tr>\n",
       "      <th>10</th>\n",
       "      <td>JPMC-CLIENT-9229</td>\n",
       "      <td>ACCOUNT-9239</td>\n",
       "      <td>USA</td>\n",
       "      <td>34576.0</td>\n",
       "      <td>CCB</td>\n",
       "      <td>COMPANY-9231</td>\n",
       "      <td>ACCOUNT-9237</td>\n",
       "      <td>QATAR</td>\n",
       "      <td>265.66</td>\n",
       "      <td>0.0</td>\n",
       "      <td>QUICK-PAYMENT</td>\n",
       "    </tr>\n",
       "    <tr>\n",
       "      <th>11</th>\n",
       "      <td>JPMC-CLIENT-9229</td>\n",
       "      <td>ACCOUNT-9240</td>\n",
       "      <td>USA</td>\n",
       "      <td>39807.0</td>\n",
       "      <td>CCB</td>\n",
       "      <td>CLIENT-9247</td>\n",
       "      <td>ACCOUNT-9248</td>\n",
       "      <td>TANZANIA</td>\n",
       "      <td>682.50</td>\n",
       "      <td>0.0</td>\n",
       "      <td>MOVE-FUNDS</td>\n",
       "    </tr>\n",
       "    <tr>\n",
       "      <th>...</th>\n",
       "      <td>...</td>\n",
       "      <td>...</td>\n",
       "      <td>...</td>\n",
       "      <td>...</td>\n",
       "      <td>...</td>\n",
       "      <td>...</td>\n",
       "      <td>...</td>\n",
       "      <td>...</td>\n",
       "      <td>...</td>\n",
       "      <td>...</td>\n",
       "      <td>...</td>\n",
       "    </tr>\n",
       "    <tr>\n",
       "      <th>1498023</th>\n",
       "      <td>BILL-COMPANY-2184254</td>\n",
       "      <td>ACCOUNT-2184255</td>\n",
       "      <td>MALTA</td>\n",
       "      <td>25754.0</td>\n",
       "      <td>CCB</td>\n",
       "      <td>JPMC-CLIENT-2184056</td>\n",
       "      <td>ACCOUNT-2184137</td>\n",
       "      <td>USA</td>\n",
       "      <td>646.79</td>\n",
       "      <td>1.0</td>\n",
       "      <td>QUICK-PAYMENT</td>\n",
       "    </tr>\n",
       "    <tr>\n",
       "      <th>1498041</th>\n",
       "      <td>BILL-COMPANY-2182787</td>\n",
       "      <td>ACCOUNT-2182788</td>\n",
       "      <td>SAMOA</td>\n",
       "      <td>37733.0</td>\n",
       "      <td>CCB</td>\n",
       "      <td>JPMC-CLIENT-2182642</td>\n",
       "      <td>ACCOUNT-2182653</td>\n",
       "      <td>USA</td>\n",
       "      <td>702.05</td>\n",
       "      <td>0.0</td>\n",
       "      <td>QUICK-PAYMENT</td>\n",
       "    </tr>\n",
       "    <tr>\n",
       "      <th>1498042</th>\n",
       "      <td>BILL-COMPANY-2178060</td>\n",
       "      <td>ACCOUNT-2178061</td>\n",
       "      <td>USA</td>\n",
       "      <td>43494.0</td>\n",
       "      <td>CCB</td>\n",
       "      <td>JPMC-CLIENT-2177971</td>\n",
       "      <td>ACCOUNT-2178099</td>\n",
       "      <td>USA</td>\n",
       "      <td>827.89</td>\n",
       "      <td>0.0</td>\n",
       "      <td>QUICK-PAYMENT</td>\n",
       "    </tr>\n",
       "    <tr>\n",
       "      <th>1498144</th>\n",
       "      <td>BILL-COMPANY-2181246</td>\n",
       "      <td>ACCOUNT-2181247</td>\n",
       "      <td>SAUDI-ARABIA</td>\n",
       "      <td>10588.0</td>\n",
       "      <td>CCB</td>\n",
       "      <td>JPMC-CLIENT-2181147</td>\n",
       "      <td>ACCOUNT-2181157</td>\n",
       "      <td>USA</td>\n",
       "      <td>325.40</td>\n",
       "      <td>0.0</td>\n",
       "      <td>MAKE-PAYMENT</td>\n",
       "    </tr>\n",
       "    <tr>\n",
       "      <th>1498161</th>\n",
       "      <td>BILL-COMPANY-2178781</td>\n",
       "      <td>ACCOUNT-2178782</td>\n",
       "      <td>FEDERATION</td>\n",
       "      <td>10255.0</td>\n",
       "      <td>CCB</td>\n",
       "      <td>JPMC-CLIENT-2178533</td>\n",
       "      <td>ACCOUNT-2178547</td>\n",
       "      <td>USA</td>\n",
       "      <td>664.29</td>\n",
       "      <td>0.0</td>\n",
       "      <td>MOVE-FUNDS</td>\n",
       "    </tr>\n",
       "  </tbody>\n",
       "</table>\n",
       "<p>242785 rows × 11 columns</p>\n",
       "</div>"
      ],
      "text/plain": [
       "                    Sender_Id   Sender_Account Sender_Country  Sender_Sector  \\\n",
       "1           JPMC-CLIENT-10098    ACCOUNT-10109            USA        15287.0   \n",
       "3            JPMC-CLIENT-9812     ACCOUNT-9825            USA        38145.0   \n",
       "5            JPMC-CLIENT-9763     ACCOUNT-9773            USA        14645.0   \n",
       "10           JPMC-CLIENT-9229     ACCOUNT-9239            USA        34576.0   \n",
       "11           JPMC-CLIENT-9229     ACCOUNT-9240            USA        39807.0   \n",
       "...                       ...              ...            ...            ...   \n",
       "1498023  BILL-COMPANY-2184254  ACCOUNT-2184255          MALTA        25754.0   \n",
       "1498041  BILL-COMPANY-2182787  ACCOUNT-2182788          SAMOA        37733.0   \n",
       "1498042  BILL-COMPANY-2178060  ACCOUNT-2178061            USA        43494.0   \n",
       "1498144  BILL-COMPANY-2181246  ACCOUNT-2181247   SAUDI-ARABIA        10588.0   \n",
       "1498161  BILL-COMPANY-2178781  ACCOUNT-2178782     FEDERATION        10255.0   \n",
       "\n",
       "        Sender_lob              Bene_Id     Bene_Account Bene_Country  \\\n",
       "1              CCB         CLIENT-10100    ACCOUNT-10106       CANADA   \n",
       "3              CCB     JPMC-CLIENT-9814     ACCOUNT-9824          USA   \n",
       "5              CCB    JPMC-COMPANY-9765     ACCOUNT-9771      BELARUS   \n",
       "10             CCB         COMPANY-9231     ACCOUNT-9237        QATAR   \n",
       "11             CCB          CLIENT-9247     ACCOUNT-9248     TANZANIA   \n",
       "...            ...                  ...              ...          ...   \n",
       "1498023        CCB  JPMC-CLIENT-2184056  ACCOUNT-2184137          USA   \n",
       "1498041        CCB  JPMC-CLIENT-2182642  ACCOUNT-2182653          USA   \n",
       "1498042        CCB  JPMC-CLIENT-2177971  ACCOUNT-2178099          USA   \n",
       "1498144        CCB  JPMC-CLIENT-2181147  ACCOUNT-2181157          USA   \n",
       "1498161        CCB  JPMC-CLIENT-2178533  ACCOUNT-2178547          USA   \n",
       "\n",
       "         USD_amount  Label Transaction_Type  \n",
       "1            622.78    0.0    QUICK-PAYMENT  \n",
       "3            989.09    0.0        PAY-CHECK  \n",
       "5            543.87    0.0        PAY-CHECK  \n",
       "10           265.66    0.0    QUICK-PAYMENT  \n",
       "11           682.50    0.0       MOVE-FUNDS  \n",
       "...             ...    ...              ...  \n",
       "1498023      646.79    1.0    QUICK-PAYMENT  \n",
       "1498041      702.05    0.0    QUICK-PAYMENT  \n",
       "1498042      827.89    0.0    QUICK-PAYMENT  \n",
       "1498144      325.40    0.0     MAKE-PAYMENT  \n",
       "1498161      664.29    0.0       MOVE-FUNDS  \n",
       "\n",
       "[242785 rows x 11 columns]"
      ]
     },
     "execution_count": 22,
     "metadata": {},
     "output_type": "execute_result"
    }
   ],
   "source": [
    "#agrupa en un nuevo dataset los datos de cada Sender_Account\n",
    "df_sender=df.groupby('Sender_Account')\n",
    "df_sender.head()"
   ]
  }
 ],
 "metadata": {
  "kernelspec": {
   "display_name": "Python 3",
   "language": "python",
   "name": "python3"
  },
  "language_info": {
   "codemirror_mode": {
    "name": "ipython",
    "version": 3
   },
   "file_extension": ".py",
   "mimetype": "text/x-python",
   "name": "python",
   "nbconvert_exporter": "python",
   "pygments_lexer": "ipython3",
   "version": "3.9.7"
  },
  "orig_nbformat": 4,
  "vscode": {
   "interpreter": {
    "hash": "18af029b0d509bd211959e977f9e15f3749effdd63ce89c24e1ae585c28efa2a"
   }
  }
 },
 "nbformat": 4,
 "nbformat_minor": 2
}
